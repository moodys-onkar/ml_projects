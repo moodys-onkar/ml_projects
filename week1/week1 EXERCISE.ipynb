{
 "cells": [
  {
   "cell_type": "markdown",
   "id": "fe12c203-e6a6-452c-a655-afb8a03a4ff5",
   "metadata": {},
   "source": [
    "# End of week 1 exercise\n",
    "\n",
    "To demonstrate your familiarity with OpenAI API, and also Ollama, build a tool that takes a technical question,  \n",
    "and responds with an explanation. This is a tool that you will be able to use yourself during the course!"
   ]
  },
  {
   "cell_type": "code",
   "execution_count": 1,
   "id": "c1070317-3ed9-4659-abe3-828943230e03",
   "metadata": {},
   "outputs": [],
   "source": [
    "# imports\n",
    "import os\n",
    "import requests\n",
    "import json\n",
    "from typing import List\n",
    "from dotenv import load_dotenv\n",
    "from bs4 import BeautifulSoup\n",
    "from IPython.display import Markdown, display, update_display\n",
    "from openai import OpenAI"
   ]
  },
  {
   "cell_type": "code",
   "execution_count": 12,
   "id": "4a456906-915a-4bfd-bb9d-57e505c5093f",
   "metadata": {},
   "outputs": [],
   "source": [
    "# constants\n",
    "\n",
    "MODEL_GPT = 'gpt-4o-mini'\n",
    "MODEL_LLAMA = 'llama3.2'"
   ]
  },
  {
   "cell_type": "code",
   "execution_count": 2,
   "id": "a8d7923c-5f28-4c30-8556-342d7c8497c1",
   "metadata": {},
   "outputs": [
    {
     "name": "stdout",
     "output_type": "stream",
     "text": [
      "API key looks good so far\n"
     ]
    }
   ],
   "source": [
    "# set up environment\n",
    "load_dotenv(override=True)\n",
    "api_key = os.getenv('OPENAI_API_KEY')\n",
    "\n",
    "if api_key and api_key.startswith('sk-proj-') and len(api_key)>10:\n",
    "    print(\"API key looks good so far\")\n",
    "else:\n",
    "    print(\"There might be a problem with your API key? Please visit the troubleshooting notebook!\")\n",
    "    \n",
    "MODEL = 'gpt-4o-mini'\n",
    "openai = OpenAI()"
   ]
  },
  {
   "cell_type": "code",
   "execution_count": 8,
   "id": "3f0d0137-52b0-47a8-81a8-11a90a010798",
   "metadata": {},
   "outputs": [],
   "source": [
    "# here is the question; type over this to ask something new\n",
    "\n",
    "question = \"\"\"\n",
    "Please explain what this code does and why:\n",
    "yield from {book.get(\"author\") for book in books if book.get(\"author\")}\n",
    "\"\"\""
   ]
  },
  {
   "cell_type": "code",
   "execution_count": 3,
   "id": "60ce7000-a4a5-4cce-a261-e75ef45063b4",
   "metadata": {},
   "outputs": [],
   "source": [
    "# Get gpt-4o-mini to answer, with streaming\n",
    "system_prompt = \"You are an expert in python and your job is to help users with the questions related to python code. For any query that the user is posting, provide an indepth explanation of the answer with 3-4 examples and best practices.\"\n",
    "\n"
   ]
  },
  {
   "cell_type": "code",
   "execution_count": 4,
   "id": "4e20f652",
   "metadata": {},
   "outputs": [
    {
     "name": "stdout",
     "output_type": "stream",
     "text": [
      "You are an expert in python and your job is to help users with the questions related to python code. For any query that the user is posting, provide an indepth explanation of the answer with 3-4 examples and best practices.\n"
     ]
    }
   ],
   "source": [
    "print(system_prompt)"
   ]
  },
  {
   "cell_type": "code",
   "execution_count": 5,
   "id": "dee74b8a",
   "metadata": {},
   "outputs": [],
   "source": [
    "def get_user_prompt(query):\n",
    "    user_prompt = f\"Please explain the below code.\\n {query}\"\n",
    "    return user_prompt"
   ]
  },
  {
   "cell_type": "code",
   "execution_count": 19,
   "id": "6190ad5a",
   "metadata": {},
   "outputs": [],
   "source": [
    "def get_query_response(query, stream=False):\n",
    "    response = openai.chat.completions.create(\n",
    "        model = MODEL_GPT,\n",
    "        messages = [\n",
    "            {\"role\": \"system\", \"content\": system_prompt},\n",
    "            {\"role\": \"user\", \"content\": get_user_prompt(query)}\n",
    "        ],\n",
    "        stream=stream\n",
    "    )\n",
    "\n",
    "    if stream:\n",
    "         streaming = \"\"\n",
    "         display_handle = display(Markdown(\"\"), display_id=True)\n",
    "         for chunk in response:\n",
    "            streaming += chunk.choices[0].delta.content or ''\n",
    "            streaming = streaming.replace(\"```\",\"\").replace(\"markdown\", \"\")\n",
    "            update_display(Markdown(streaming), display_id=display_handle.display_id)\n",
    "    else:\n",
    "        result =  response.choices[0].message.content\n",
    "        display(Markdown(result))\n"
   ]
  },
  {
   "cell_type": "code",
   "execution_count": 20,
   "id": "ccadcc0b",
   "metadata": {},
   "outputs": [
    {
     "data": {
      "text/markdown": [
       "The line of code you provided utilizes several key Python concepts, including generator expressions, the `yield` statement, and set comprehensions. Let's break it down step by step to understand its functionality and purpose.\n",
       "\n",
       "### Code Explanation\n",
       "\n",
       "**The Code:**\n",
       "python\n",
       "yield from {book.get(\"author\") for book in books if book.get(\"author\")}\n",
       "\n",
       "\n",
       "#### Components Explained:\n",
       "\n",
       "1. **`yield from`**:\n",
       "   - The `yield` keyword is used in Python to turn a function into a generator. A generator function can yield multiple values at different points in time, instead of returning a single value.\n",
       "   - The `yield from` expression allows you to yield all values from an iterable (like a list, tuple, or set) as if they were yielded from the generator itself.\n",
       "   - This is useful for delegating part of your generator’s operation to another generator or iterable.\n",
       "\n",
       "2. **Set Comprehension**:\n",
       "   - The expression `{book.get(\"author\") for book in books if book.get(\"author\")}` is a set comprehension.\n",
       "   - It iterates over `books`, which should be a list (or iterable) of dictionaries.\n",
       "   - For each `book` in `books`, it retrieves the value associated with the key `\"author\"` using `book.get(\"author\")`.\n",
       "   - The `if book.get(\"author\")` part ensures that only books with a non-empty or non-None author are included in the resulting set. This helps to filter out any entries that do not have a valid author.\n",
       "\n",
       "3. **Overall Functionality**:\n",
       "   - The complete line creates a set of unique author names from a collection of book records. By using a set, it ensures that each author appears only once, even if multiple books are authored by the same person.\n",
       "   - Finally, the `yield from` keyword allows for yielding these unique author names one at a time from a generator.\n",
       "\n",
       "### Why Use This Code?\n",
       "\n",
       "1. **Efficiency**: By using a generator and `yield from`, you can generate authors one at a time, which can be more memory-efficient than creating a complete list of authors and keeping it in memory.\n",
       "  \n",
       "2. **Uniqueness**: Using a set comprehension inherently ensures that all authors are unique. If the same author appears multiple times in the `books`, they will only show once in the final output.\n",
       "\n",
       "3. **Readable**: The use of generator and comprehensions makes the code concise. It's a Pythonic way to perform operations on collections.\n",
       "\n",
       "### Practical Examples\n",
       "\n",
       "Let's illustrate this with a few practical examples.\n",
       "\n",
       "#### Example 1: Basic Usage\n",
       "python\n",
       "books = [\n",
       "    {\"title\": \"Book A\", \"author\": \"Author 1\"},\n",
       "    {\"title\": \"Book B\", \"author\": \"Author 1\"},\n",
       "    {\"title\": \"Book C\", \"author\": None},\n",
       "    {\"title\": \"Book D\", \"author\": \"Author 2\"},\n",
       "]\n",
       "\n",
       "def get_authors(books):\n",
       "    yield from {book.get(\"author\") for book in books if book.get(\"author\")}\n",
       "\n",
       "authors = list(get_authors(books))\n",
       "print(authors)  # Output: ['Author 1', 'Author 2']\n",
       "\n",
       "\n",
       "#### Example 2: Avoiding Duplicates\n",
       "python\n",
       "books = [\n",
       "    {\"title\": \"Book A\", \"author\": \"Author X\"},\n",
       "    {\"title\": \"Book B\", \"author\": \"Author X\"},\n",
       "    {\"title\": \"Book C\", \"author\": \"Author Y\"},\n",
       "]\n",
       "\n",
       "authors = list(get_authors(books))\n",
       "print(authors)  # Output: ['Author X', 'Author Y']\n",
       "\n",
       "\n",
       "#### Example 3: Handling Edge Cases\n",
       "python\n",
       "books = [\n",
       "    {\"title\": \"Book A\", \"author\": \"\"},\n",
       "    {\"title\": \"Book B\", \"author\": None},\n",
       "    {\"title\": \"Book C\", \"author\": \"Author Z\"},\n",
       "]\n",
       "\n",
       "authors = list(get_authors(books))\n",
       "print(authors)  # Output: ['Author Z']\n",
       "\n",
       "\n",
       "### Best Practices\n",
       "1. **Always Use `get`**: When accessing dictionary keys that might not exist, use the `get()` method to avoid `KeyError`.\n",
       "  \n",
       "2. **Filter Early**: Filter out empty or irrelevant data points early in your comprehension to keep your data clean.\n",
       "\n",
       "3. **Consider Performance**: Using `yield from` helps you manage memory more efficiently, especially with large datasets.\n",
       "\n",
       "4. **Documentation**: Always provide documentation for your functions to clarify what your generators yield, particularly when using complex comprehensions.\n",
       "\n",
       "By following these principles, you can write cleaner, efficient, and robust Python code."
      ],
      "text/plain": [
       "<IPython.core.display.Markdown object>"
      ]
     },
     "metadata": {},
     "output_type": "display_data"
    }
   ],
   "source": [
    "get_query_response(question,True)"
   ]
  },
  {
   "cell_type": "code",
   "execution_count": null,
   "id": "8f7c8ea8-4082-4ad0-8751-3301adcf6538",
   "metadata": {},
   "outputs": [],
   "source": [
    "# Get Llama 3.2 to answer"
   ]
  }
 ],
 "metadata": {
  "kernelspec": {
   "display_name": "llms",
   "language": "python",
   "name": "python3"
  },
  "language_info": {
   "codemirror_mode": {
    "name": "ipython",
    "version": 3
   },
   "file_extension": ".py",
   "mimetype": "text/x-python",
   "name": "python",
   "nbconvert_exporter": "python",
   "pygments_lexer": "ipython3",
   "version": "3.11.9"
  }
 },
 "nbformat": 4,
 "nbformat_minor": 5
}
